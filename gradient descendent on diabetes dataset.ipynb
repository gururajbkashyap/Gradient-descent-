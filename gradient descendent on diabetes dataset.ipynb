{
 "cells": [
  {
   "cell_type": "code",
   "execution_count": 51,
   "id": "cee311f4-3a09-45ae-a7bd-b50180900657",
   "metadata": {},
   "outputs": [],
   "source": [
    "from sklearn.datasets import load_diabetes\n",
    "from sklearn.linear_model import LinearRegression\n",
    "import numpy as np\n",
    "from sklearn.metrics import r2_score\n",
    "from sklearn.model_selection import train_test_split\n",
    "import time"
   ]
  },
  {
   "cell_type": "code",
   "execution_count": 52,
   "id": "e2f4786f-9e8c-4fcb-8eaf-40731665929b",
   "metadata": {},
   "outputs": [],
   "source": [
    "X,y = load_diabetes(return_X_y=True)"
   ]
  },
  {
   "cell_type": "code",
   "execution_count": 53,
   "id": "08098fbd-4b58-4066-9836-03c37dca1c21",
   "metadata": {},
   "outputs": [],
   "source": [
    "X_train,x_test,y_train,y_test = train_test_split(X,y,test_size = 0.2,random_state = 3)"
   ]
  },
  {
   "cell_type": "code",
   "execution_count": 54,
   "id": "06233208-b037-453b-a3b4-8404db50f8ec",
   "metadata": {},
   "outputs": [
    {
     "data": {
      "text/plain": [
       "(353, 10)"
      ]
     },
     "execution_count": 54,
     "metadata": {},
     "output_type": "execute_result"
    }
   ],
   "source": [
    "X_train.shape"
   ]
  },
  {
   "cell_type": "code",
   "execution_count": 55,
   "id": "b16c0301-1907-41d1-839e-77b34c66d112",
   "metadata": {},
   "outputs": [],
   "source": [
    "model = LinearRegression()"
   ]
  },
  {
   "cell_type": "code",
   "execution_count": 56,
   "id": "522ab9d3-ba94-4267-9a3d-fb15428d43f7",
   "metadata": {},
   "outputs": [
    {
     "name": "stdout",
     "output_type": "stream",
     "text": [
      "Time taken by linear regression 0.0034513473510742188 sec\n"
     ]
    }
   ],
   "source": [
    "start = time.time()\n",
    "model.fit(X_train,y_train)\n",
    "print(\"Time taken by linear regression\",time.time() - start,\"sec\")"
   ]
  },
  {
   "cell_type": "code",
   "execution_count": 57,
   "id": "dcbe0e96-7613-4882-8b1d-640f4c38d37c",
   "metadata": {},
   "outputs": [
    {
     "data": {
      "text/plain": [
       "153.13441535285003"
      ]
     },
     "execution_count": 57,
     "metadata": {},
     "output_type": "execute_result"
    }
   ],
   "source": [
    "model.intercept_"
   ]
  },
  {
   "cell_type": "code",
   "execution_count": 58,
   "id": "935c48b1-d8b6-4768-bd59-fb537f3abceb",
   "metadata": {},
   "outputs": [],
   "source": [
    "y_pred_lr = model.predict(x_test)"
   ]
  },
  {
   "cell_type": "code",
   "execution_count": 59,
   "id": "3972dd6e-a2e1-44ec-92f4-b0f3c3dc38d9",
   "metadata": {},
   "outputs": [
    {
     "data": {
      "text/plain": [
       "41.61792211496943"
      ]
     },
     "execution_count": 59,
     "metadata": {},
     "output_type": "execute_result"
    }
   ],
   "source": [
    "r2_score(y_test,y_pred_lr) * 100"
   ]
  },
  {
   "cell_type": "code",
   "execution_count": 60,
   "id": "4165e882-9820-4f9e-8c39-1a93fae8387d",
   "metadata": {},
   "outputs": [],
   "source": [
    "class GDRegressor:\n",
    "    def __init__(self, lr = 0.1,epochs = 100):\n",
    "        self.coeff = None\n",
    "        self.epochs = epochs\n",
    "        self.lr = lr\n",
    "        self.intercept = None\n",
    "\n",
    "\n",
    "    def fit(self,X_train,y_train):\n",
    "        self.intercept = 0\n",
    "        self.coeff = np.ones(X_train.shape[1])\n",
    "\n",
    "        for i in range(self.epochs):\n",
    "            y_pred = self.intercept + np.dot(X_train,self.coeff)\n",
    "            intercept_deri = -2 * np.mean(y_train - y_pred)\n",
    "            self.intercept = self.intercept - (self.lr * intercept_deri)\n",
    "            coeff_deri = -2 * np.dot((y_train - y_pred),X_train)/X_train.shape[1]\n",
    "            self.coeff = self.coeff - (self.lr * coeff_deri)\n",
    "        print(self.coeff,self.intercept)\n",
    "    def predict(self,x_test):\n",
    "        return np.dot(x_test,self.coeff) + self.intercept"
   ]
  },
  {
   "cell_type": "code",
   "execution_count": 61,
   "id": "4cad0c4d-f4f8-4d16-9a34-e8fcf9273e69",
   "metadata": {},
   "outputs": [],
   "source": [
    "gd = GDRegressor(0.1,100)"
   ]
  },
  {
   "cell_type": "code",
   "execution_count": 62,
   "id": "b0d07d16-c2bc-483b-b2d7-de5249c586c2",
   "metadata": {},
   "outputs": [
    {
     "name": "stdout",
     "output_type": "stream",
     "text": [
      "[  17.41567125 -132.98207397  460.5448087   296.84603102  -61.88479173\n",
      " -103.29992172 -221.07625437  145.71603982  349.41980353  144.90637596] 153.10374919273283\n",
      "Time Taken batch gradient descent: 0.014412164688110352 sec\n"
     ]
    }
   ],
   "source": [
    "start = time.time()\n",
    "gd.fit(X_train,y_train)\n",
    "print(\"Time Taken batch gradient descent:\",time.time() - start,'sec')"
   ]
  },
  {
   "cell_type": "code",
   "execution_count": 63,
   "id": "b86cec03-8603-4ad4-8bd1-5b57344020d0",
   "metadata": {},
   "outputs": [],
   "source": [
    "y_pred_bgd = gd.predict(x_test)"
   ]
  },
  {
   "cell_type": "raw",
   "id": "366112d5-9609-4dce-bc69-52c55a9681aa",
   "metadata": {},
   "source": [
    "r2_score(y_test,y_pred_bgd) * 100"
   ]
  },
  {
   "cell_type": "code",
   "execution_count": null,
   "id": "e6a10f4f-0963-4eca-bc03-cb0cb4eb3054",
   "metadata": {},
   "outputs": [],
   "source": []
  },
  {
   "cell_type": "code",
   "execution_count": 76,
   "id": "5b2f0a96-3e12-425d-9202-b3fbbe5f2322",
   "metadata": {},
   "outputs": [],
   "source": [
    "class SGDRegressor:\n",
    "    def __init__(self,lr,epochs):\n",
    "        self.epochs = epochs\n",
    "        self.lr = lr\n",
    "        self.intercept = None\n",
    "        self.coeff = None\n",
    "    def fit(self,X_train,y_train):\n",
    "        self.intercept = 0\n",
    "        self.coeff = np.ones(X_train.shape[1])\n",
    "\n",
    "        for i in range(self.epochs):\n",
    "            for j in range(X_train.shape[1]):\n",
    "                idx = np.random.randint(0,X_train.shape[0])\n",
    "                y_hat = np.dot(X_train[idx],self.coeff) + self.intercept\n",
    "                coeff_deri = -2 * np.dot((y_train[idx] - y_hat),X_train[idx])\n",
    "                intercept_deri = -2 * (y_train[idx] - y_hat)\n",
    "                self.intercept = self.intercept - (self.lr * intercept_deri)\n",
    "                self.coeff = self.coeff - (self.lr * coeff_deri)\n",
    "        print(self.coeff,self.intercept)\n",
    "    def predict(self,x_test):\n",
    "        return np.dot(x_test,self.coeff) + self.intercept\n",
    "                "
   ]
  },
  {
   "cell_type": "code",
   "execution_count": 77,
   "id": "c4c6f064-c50f-4308-9d45-b6212bd65b39",
   "metadata": {},
   "outputs": [],
   "source": [
    "sgd = SGDRegressor(0.1,55)"
   ]
  },
  {
   "cell_type": "code",
   "execution_count": 78,
   "id": "126c73a9-1313-41dd-a1a0-f4ff9ea5d9f3",
   "metadata": {},
   "outputs": [
    {
     "name": "stdout",
     "output_type": "stream",
     "text": [
      "[  47.38242742  -10.76174193  191.27730523  154.30695869   29.54287673\n",
      "   23.81020799 -115.91543742  102.74404843  148.20603965  108.96589164] 175.9588804737723\n",
      "\n",
      " Time Taken for Stochastic Gradient Descent: 0.018245935440063477 sec\n"
     ]
    }
   ],
   "source": [
    "start = time.time()\n",
    "sgd.fit(X_train,y_train)\n",
    "print(\"\\n Time Taken for Stochastic Gradient Descent:\",time.time() - start,\"sec\")"
   ]
  },
  {
   "cell_type": "code",
   "execution_count": 82,
   "id": "76ab3687-7c24-4a73-8492-0dee53421c72",
   "metadata": {},
   "outputs": [],
   "source": [
    "y_pred = sgd.predict(x_test)\n"
   ]
  },
  {
   "cell_type": "code",
   "execution_count": 83,
   "id": "ae081bad-6db8-404b-b2eb-7616a437c482",
   "metadata": {},
   "outputs": [
    {
     "data": {
      "text/plain": [
       "15.10641238288245"
      ]
     },
     "execution_count": 83,
     "metadata": {},
     "output_type": "execute_result"
    }
   ],
   "source": [
    "r2_score(y_test,y_pred) * 100"
   ]
  },
  {
   "cell_type": "code",
   "execution_count": null,
   "id": "94aeead8-1b96-42bd-8d45-4670b60662b6",
   "metadata": {},
   "outputs": [],
   "source": []
  }
 ],
 "metadata": {
  "kernelspec": {
   "display_name": "Python 3 (ipykernel)",
   "language": "python",
   "name": "python3"
  },
  "language_info": {
   "codemirror_mode": {
    "name": "ipython",
    "version": 3
   },
   "file_extension": ".py",
   "mimetype": "text/x-python",
   "name": "python",
   "nbconvert_exporter": "python",
   "pygments_lexer": "ipython3",
   "version": "3.12.1"
  }
 },
 "nbformat": 4,
 "nbformat_minor": 5
}
